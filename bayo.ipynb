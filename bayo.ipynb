{
 "cells": [
  {
   "cell_type": "markdown",
   "metadata": {},
   "source": [
    "Ce code nécessite 16 GB de RAM"
   ]
  },
  {
   "cell_type": "code",
   "execution_count": null,
   "metadata": {
    "pycharm": {
     "is_executing": true
    }
   },
   "outputs": [],
   "source": [
    "import hmac\n",
    "import hashlib\n",
    "from gmpy2 import powmod\n",
    "\n",
    "e = 0x10001\n",
    "N = 0x1ea982ba8f01d5e03163b0409a554484b8e145af768a8d3e66b84c9723d8604a33bd7c52033def81adfaf49beaa4f0f2b3b92370efb88f07665c5c35afdfd94752eacc4cf24ff3b96954ff391abaf39108df0cf11c26567ac2aa408143038ed11d53172667b95637a7cd3d6bc8972e6a4d7a503730db2af935d3baf8d5a5465d"
   ]
  },
  {
   "cell_type": "code",
   "execution_count": 2,
   "metadata": {
    "scrolled": true
   },
   "outputs": [
    {
     "name": "stdout",
     "output_type": "stream",
     "text": [
      "youpi\n"
     ]
    }
   ],
   "source": [
    "memo = {}\n",
    "oui = False\n",
    "\n",
    "for i in range(1, 2**24):\n",
    "    x = powmod(i, e, N)\n",
    "    memo[x] = i\n",
    "print(\"youpi\")"
   ]
  },
  {
   "cell_type": "code",
   "execution_count": 3,
   "metadata": {},
   "outputs": [],
   "source": [
    "c = 0x0e62c72757e57b3ac3052cb8809ab80186dff6a71ac68abd8f581615eaf63d5836779d7fb4fa70b2a89ea333b6a1505ba76fe65d10a11ffb17ef476d5a9fc61859a7d48a0da770fd6b42fe036f89755ab6a17cf6483452f42ee5da00574d74369b74fddf0e4329595b44bc139cf529d0c3b6e19d86e963ab015614c21797e3a6\n",
    "        "
   ]
  },
  {
   "cell_type": "code",
   "execution_count": 4,
   "metadata": {},
   "outputs": [],
   "source": [
    "for j in range(1, 2**24):\n",
    "    x = powmod(j, e, N)\n",
    "    y = c * powmod(x, -1, N)\n",
    "\n",
    "    if y in memo:\n",
    "        i = memo[y]\n",
    "        oui = i * j\n",
    "        print(oui)\n",
    "        print(oui**e % N)\n",
    "        print(c)\n",
    "        break"
   ]
  },
  {
   "cell_type": "code",
   "execution_count": 8,
   "metadata": {},
   "outputs": [
    {
     "name": "stdout",
     "output_type": "stream",
     "text": [
      "False\n"
     ]
    }
   ],
   "source": [
    "print(oui)"
   ]
  },
  {
   "cell_type": "code",
   "execution_count": null,
   "metadata": {},
   "outputs": [],
   "source": []
  }
 ],
 "metadata": {
  "kernelspec": {
   "display_name": "Python 3 (ipykernel)",
   "language": "python",
   "name": "python3"
  },
  "language_info": {
   "codemirror_mode": {
    "name": "ipython",
    "version": 3
   },
   "file_extension": ".py",
   "mimetype": "text/x-python",
   "name": "python",
   "nbconvert_exporter": "python",
   "pygments_lexer": "ipython3",
   "version": "3.9.12"
  }
 },
 "nbformat": 4,
 "nbformat_minor": 2
}
